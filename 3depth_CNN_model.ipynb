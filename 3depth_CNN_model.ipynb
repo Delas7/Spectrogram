{
 "cells": [
  {
   "cell_type": "code",
   "execution_count": 13,
   "metadata": {},
   "outputs": [],
   "source": [
    "import librosa\n",
    "import matplotlib.pyplot as plt\n",
    "import IPython.display as dis\n",
    "import numpy as np\n",
    "import os, sys\n",
    "from tqdm import tqdm\n",
    "import pandas as pd\n",
    "import librosa.display"
   ]
  },
  {
   "cell_type": "code",
   "execution_count": 3,
   "metadata": {},
   "outputs": [],
   "source": [
    "rawdata = pd.read_csv('Raw_data.csv')"
   ]
  },
  {
   "cell_type": "code",
   "execution_count": 6,
   "metadata": {},
   "outputs": [
    {
     "data": {
      "text/html": [
       "<div>\n",
       "<style scoped>\n",
       "    .dataframe tbody tr th:only-of-type {\n",
       "        vertical-align: middle;\n",
       "    }\n",
       "\n",
       "    .dataframe tbody tr th {\n",
       "        vertical-align: top;\n",
       "    }\n",
       "\n",
       "    .dataframe thead th {\n",
       "        text-align: right;\n",
       "    }\n",
       "</style>\n",
       "<table border=\"1\" class=\"dataframe\">\n",
       "  <thead>\n",
       "    <tr style=\"text-align: right;\">\n",
       "      <th></th>\n",
       "      <th>song_id</th>\n",
       "      <th>song_name</th>\n",
       "      <th>song_lyric</th>\n",
       "      <th>senti_tag</th>\n",
       "    </tr>\n",
       "  </thead>\n",
       "  <tbody>\n",
       "    <tr>\n",
       "      <th>0</th>\n",
       "      <td>32399836</td>\n",
       "      <td>Respect</td>\n",
       "      <td>Put your hands in the air\\n(Put your hands in ...</td>\n",
       "      <td>화나요</td>\n",
       "    </tr>\n",
       "    <tr>\n",
       "      <th>1</th>\n",
       "      <td>31052006</td>\n",
       "      <td>Drink Slow Henny</td>\n",
       "      <td>Underground studio\\n쿠바나 더블 불 붙이고\\n오늘 밤은 가자 로데오...</td>\n",
       "      <td>화나요</td>\n",
       "    </tr>\n",
       "    <tr>\n",
       "      <th>2</th>\n",
       "      <td>4196651</td>\n",
       "      <td>Badman</td>\n",
       "      <td>어둠 속에서 들리는 절규 \\n공포에 질린 세상을 \\n뒤집어버릴거야 다 \\n미쳐버린 ...</td>\n",
       "      <td>화나요</td>\n",
       "    </tr>\n",
       "    <tr>\n",
       "      <th>3</th>\n",
       "      <td>31448485</td>\n",
       "      <td>위로 해줄래</td>\n",
       "      <td>이렇게 달이 아름다운 밤이 오면\\n감정이 올라 So, lonely\\n며칠간 묵었던 ...</td>\n",
       "      <td>화나요</td>\n",
       "    </tr>\n",
       "    <tr>\n",
       "      <th>4</th>\n",
       "      <td>30773556</td>\n",
       "      <td>Hate Me</td>\n",
       "      <td>I know you hate me\\nI know you hate me\\nI know...</td>\n",
       "      <td>화나요</td>\n",
       "    </tr>\n",
       "    <tr>\n",
       "      <th>...</th>\n",
       "      <td>...</td>\n",
       "      <td>...</td>\n",
       "      <td>...</td>\n",
       "      <td>...</td>\n",
       "    </tr>\n",
       "    <tr>\n",
       "      <th>1332</th>\n",
       "      <td>31835675</td>\n",
       "      <td>Help Me</td>\n",
       "      <td>No lyric</td>\n",
       "      <td>화나요</td>\n",
       "    </tr>\n",
       "    <tr>\n",
       "      <th>1333</th>\n",
       "      <td>33193810</td>\n",
       "      <td>MOON</td>\n",
       "      <td>달이 밝은 밤 숨지 못한 나\\n붉은색의 달빛에 내 눈물이\\n내 표정이 보여\\nDo ...</td>\n",
       "      <td>화나요</td>\n",
       "    </tr>\n",
       "    <tr>\n",
       "      <th>1334</th>\n",
       "      <td>30287019</td>\n",
       "      <td>롤린 (Rollin')</td>\n",
       "      <td>그 날을 잊지 못해 babe\\n날 보며 환히 웃던 \\n너의 미소에\\n홀린 듯 \\nI...</td>\n",
       "      <td>화나요</td>\n",
       "    </tr>\n",
       "    <tr>\n",
       "      <th>1335</th>\n",
       "      <td>34943312</td>\n",
       "      <td>나의 X에게</td>\n",
       "      <td>우리 다시 만날래\\n예쁘게 빛나던\\n모든 추억들이\\n너무 그리워\\n너의 품에 안길래...</td>\n",
       "      <td>화나요</td>\n",
       "    </tr>\n",
       "    <tr>\n",
       "      <th>1336</th>\n",
       "      <td>33061995</td>\n",
       "      <td>밤하늘의 별을(2020)</td>\n",
       "      <td>밤하늘의 별을 따서 너에게 줄래 \\n너는 내가 사랑하니까 \\n더 소중하니까 \\n오직...</td>\n",
       "      <td>화나요</td>\n",
       "    </tr>\n",
       "  </tbody>\n",
       "</table>\n",
       "<p>1337 rows × 4 columns</p>\n",
       "</div>"
      ],
      "text/plain": [
       "       song_id         song_name  \\\n",
       "0     32399836           Respect   \n",
       "1     31052006  Drink Slow Henny   \n",
       "2      4196651            Badman   \n",
       "3     31448485            위로 해줄래   \n",
       "4     30773556           Hate Me   \n",
       "...        ...               ...   \n",
       "1332  31835675           Help Me   \n",
       "1333  33193810              MOON   \n",
       "1334  30287019      롤린 (Rollin')   \n",
       "1335  34943312            나의 X에게   \n",
       "1336  33061995     밤하늘의 별을(2020)   \n",
       "\n",
       "                                             song_lyric senti_tag  \n",
       "0     Put your hands in the air\\n(Put your hands in ...       화나요  \n",
       "1     Underground studio\\n쿠바나 더블 불 붙이고\\n오늘 밤은 가자 로데오...       화나요  \n",
       "2     어둠 속에서 들리는 절규 \\n공포에 질린 세상을 \\n뒤집어버릴거야 다 \\n미쳐버린 ...       화나요  \n",
       "3     이렇게 달이 아름다운 밤이 오면\\n감정이 올라 So, lonely\\n며칠간 묵었던 ...       화나요  \n",
       "4     I know you hate me\\nI know you hate me\\nI know...       화나요  \n",
       "...                                                 ...       ...  \n",
       "1332                                           No lyric       화나요  \n",
       "1333  달이 밝은 밤 숨지 못한 나\\n붉은색의 달빛에 내 눈물이\\n내 표정이 보여\\nDo ...       화나요  \n",
       "1334  그 날을 잊지 못해 babe\\n날 보며 환히 웃던 \\n너의 미소에\\n홀린 듯 \\nI...       화나요  \n",
       "1335  우리 다시 만날래\\n예쁘게 빛나던\\n모든 추억들이\\n너무 그리워\\n너의 품에 안길래...       화나요  \n",
       "1336  밤하늘의 별을 따서 너에게 줄래 \\n너는 내가 사랑하니까 \\n더 소중하니까 \\n오직...       화나요  \n",
       "\n",
       "[1337 rows x 4 columns]"
      ]
     },
     "execution_count": 6,
     "metadata": {},
     "output_type": "execute_result"
    }
   ],
   "source": [
    "rawdata"
   ]
  },
  {
   "cell_type": "code",
   "execution_count": 18,
   "metadata": {},
   "outputs": [
    {
     "name": "stderr",
     "output_type": "stream",
     "text": [
      "100%|██████████| 1337/1337 [2:09:06<00:00,  5.79s/it] \n"
     ]
    }
   ],
   "source": [
    "# 경로 설정\n",
    "path = 'C:\\\\Users\\\\인공지능사관학교\\\\Desktop\\\\최종프로젝트\\\\data_wav'\n",
    "\n",
    "# melspectrogram 을 numpy 배열 형태로 저장\n",
    "for i in tqdm(range(len(rawdata))):\n",
    "    music_path = path + '\\\\' + str(rawdata['song_id'].iloc[i]) + '.wav'\n",
    "    y, sr = librosa.load(music_path)\n",
    "    S = librosa.feature.melspectrogram(y=y, sr=sr)\n",
    "    S_DB = librosa.amplitude_to_db(S, ref=np.max)\n",
    "    \n",
    "    np.save('C:\\\\Users\\\\인공지능사관학교\\\\Desktop\\\\최종프로젝트\\\\melspectrogram_data\\\\'+str(rawdata['song_id'].iloc[i])+'.npy',\n",
    "            S_DB)\n",
    "    \n",
    "\n"
   ]
  },
  {
   "cell_type": "code",
   "execution_count": 25,
   "metadata": {},
   "outputs": [
    {
     "name": "stderr",
     "output_type": "stream",
     "text": [
      "100%|██████████| 1337/1337 [00:14<00:00, 93.69it/s]\n"
     ]
    }
   ],
   "source": [
    "lst = os.listdir('../melspectrogram_data')\n",
    "data_x = []\n",
    "data_y = []\n",
    "for i in tqdm(range(len(rawdata))):\n",
    "   data_x.append(np.load('../melspectrogram_data/' + str(rawdata['song_id'].iloc[i])+'.npy'))\n",
    "   data_y.append(rawdata['senti_tag'].iloc[i])"
   ]
  },
  {
   "cell_type": "code",
   "execution_count": 26,
   "metadata": {},
   "outputs": [],
   "source": [
    "from sklearn.preprocessing import LabelEncoder\n",
    "label_encoder = LabelEncoder()\n",
    "data_y = label_encoder.fit_transform(data_y)"
   ]
  },
  {
   "cell_type": "code",
   "execution_count": 43,
   "metadata": {},
   "outputs": [
    {
     "name": "stderr",
     "output_type": "stream",
     "text": [
      "100%|██████████| 1337/1337 [00:00<00:00, 67031.45it/s]\n"
     ]
    }
   ],
   "source": [
    "wav_to_img_data = []\n",
    "target = []\n",
    "\n",
    "# 128*128 사이즈로 멜스펙토그램 이미지를 잘라서 담아두고\n",
    "# 타겟값을 같이 추가한 넘파이배열을 만든다\n",
    "for idx in tqdm(range(len(data_x))):\n",
    "    for i in range(15):\n",
    "        wav_to_img_data.append(data_x[idx][:, 128* i : 128 * (i+1)].reshape(128,128,-1))\n",
    "        target.append(data_y[idx])\n",
    "wav_to_img_data = np.array(wav_to_img_data)\n",
    "target = np.array(target)"
   ]
  },
  {
   "cell_type": "code",
   "execution_count": 30,
   "metadata": {},
   "outputs": [],
   "source": [
    "import tensorflow as tf\n",
    "from tensorflow.keras.layers import Input, Dense, Conv2D, MaxPooling2D, BatchNormalization, Activation, Flatten"
   ]
  },
  {
   "cell_type": "code",
   "execution_count": 47,
   "metadata": {},
   "outputs": [],
   "source": [
    "# layers\n",
    "\n",
    "inputs = Input(shape=(128,128,1))\n",
    "\n",
    "conv_1 = Conv2D(16, kernel_size=3, strides=1, padding='same')(inputs)\n",
    "bn_1 = BatchNormalization()(conv_1)\n",
    "relu_1 = Activation('relu')(bn_1)\n",
    "maxpool_1 = MaxPooling2D(pool_size=2, padding='same')(relu_1)\n",
    "\n",
    "conv_2 = Conv2D(32, kernel_size=3, strides=1, padding='same')(maxpool_1)\n",
    "bn_2 = BatchNormalization()(conv_2)\n",
    "relu_2 = Activation('relu')(bn_2)\n",
    "maxpool_2 = MaxPooling2D(pool_size=2, padding='same')(relu_2)\n",
    "\n",
    "conv_3 = Conv2D(64, kernel_size=3, strides=1, padding='same')(maxpool_2)\n",
    "bn_3 = BatchNormalization()(conv_3)\n",
    "relu_3 = Activation('relu')(bn_3)\n",
    "maxpool_3 = MaxPooling2D(pool_size=2, padding='same')(relu_3)\n",
    "\n",
    "flatten = Flatten()(maxpool_3)\n",
    "dense_1 = Dense(128, activation='relu')(flatten)\n",
    "dense_2 = Dense(6, activation='softmax')(dense_1)"
   ]
  },
  {
   "cell_type": "code",
   "execution_count": 48,
   "metadata": {},
   "outputs": [],
   "source": [
    "model = tf.keras.models.Model(inputs, dense_2)"
   ]
  },
  {
   "cell_type": "code",
   "execution_count": 49,
   "metadata": {},
   "outputs": [],
   "source": [
    "model.compile(optimizer='Adam', loss='sparse_categorical_crossentropy', metrics=['acc'])"
   ]
  },
  {
   "cell_type": "code",
   "execution_count": 52,
   "metadata": {},
   "outputs": [
    {
     "name": "stdout",
     "output_type": "stream",
     "text": [
      "Epoch 1/30\n",
      "502/502 [==============================] - 235s 467ms/step - loss: 1.0427 - acc: 0.5911 - val_loss: 2.1568 - val_acc: 0.1488\n",
      "Epoch 2/30\n",
      "502/502 [==============================] - 252s 502ms/step - loss: 0.9641 - acc: 0.6239 - val_loss: 2.9184 - val_acc: 0.1416\n",
      "Epoch 3/30\n",
      "502/502 [==============================] - 232s 463ms/step - loss: 0.8740 - acc: 0.6634 - val_loss: 7.6099 - val_acc: 0.2144\n",
      "Epoch 4/30\n",
      "502/502 [==============================] - 231s 461ms/step - loss: 0.8013 - acc: 0.6906 - val_loss: 2.5520 - val_acc: 0.2408\n",
      "Epoch 5/30\n",
      "502/502 [==============================] - 229s 456ms/step - loss: 0.7302 - acc: 0.7222 - val_loss: 6.1251 - val_acc: 0.1755\n",
      "Epoch 6/30\n",
      "502/502 [==============================] - 228s 454ms/step - loss: 0.6611 - acc: 0.7539 - val_loss: 5.0649 - val_acc: 0.1212\n",
      "Epoch 7/30\n",
      "502/502 [==============================] - 228s 455ms/step - loss: 0.6195 - acc: 0.7671 - val_loss: 2.1510 - val_acc: 0.2498\n",
      "Epoch 8/30\n",
      "502/502 [==============================] - 228s 454ms/step - loss: 0.5582 - acc: 0.7905 - val_loss: 4.0046 - val_acc: 0.1454\n",
      "Epoch 9/30\n",
      "502/502 [==============================] - 228s 454ms/step - loss: 0.5302 - acc: 0.8034 - val_loss: 9.0155 - val_acc: 0.1144\n",
      "Epoch 10/30\n",
      "502/502 [==============================] - 228s 455ms/step - loss: 0.4719 - acc: 0.8288 - val_loss: 4.9692 - val_acc: 0.1877\n",
      "Epoch 11/30\n",
      "502/502 [==============================] - 229s 457ms/step - loss: 0.4527 - acc: 0.8360 - val_loss: 5.4785 - val_acc: 0.1426\n",
      "Epoch 12/30\n",
      "502/502 [==============================] - 229s 455ms/step - loss: 0.4109 - acc: 0.8504 - val_loss: 5.3114 - val_acc: 0.1730\n",
      "Epoch 13/30\n",
      "502/502 [==============================] - 228s 453ms/step - loss: 0.3986 - acc: 0.8554 - val_loss: 4.2774 - val_acc: 0.1803\n",
      "Epoch 14/30\n",
      "502/502 [==============================] - 229s 457ms/step - loss: 0.3758 - acc: 0.8649 - val_loss: 8.3295 - val_acc: 0.1521\n",
      "Epoch 15/30\n",
      "502/502 [==============================] - 234s 465ms/step - loss: 0.3437 - acc: 0.8750 - val_loss: 3.1583 - val_acc: 0.2752\n",
      "Epoch 16/30\n",
      "502/502 [==============================] - 225s 449ms/step - loss: 0.3327 - acc: 0.8809 - val_loss: 10.6636 - val_acc: 0.2039\n",
      "Epoch 17/30\n",
      "502/502 [==============================] - 225s 449ms/step - loss: 0.3133 - acc: 0.8873 - val_loss: 10.2383 - val_acc: 0.2097\n",
      "Epoch 18/30\n",
      "502/502 [==============================] - 226s 451ms/step - loss: 0.2998 - acc: 0.8918 - val_loss: 8.2771 - val_acc: 0.1805\n",
      "Epoch 19/30\n",
      "502/502 [==============================] - 232s 461ms/step - loss: 0.2964 - acc: 0.8940 - val_loss: 7.9717 - val_acc: 0.1895\n",
      "Epoch 20/30\n",
      "502/502 [==============================] - 227s 451ms/step - loss: 0.2945 - acc: 0.8939 - val_loss: 36.4557 - val_acc: 0.2209\n",
      "Epoch 21/30\n",
      "502/502 [==============================] - 227s 452ms/step - loss: 0.2811 - acc: 0.8997 - val_loss: 24.5479 - val_acc: 0.1975\n",
      "Epoch 22/30\n",
      "502/502 [==============================] - 227s 453ms/step - loss: 0.2602 - acc: 0.9089 - val_loss: 14.2782 - val_acc: 0.1660\n",
      "Epoch 23/30\n",
      "502/502 [==============================] - 229s 456ms/step - loss: 0.2531 - acc: 0.9109 - val_loss: 7.6309 - val_acc: 0.1326\n",
      "Epoch 24/30\n",
      "502/502 [==============================] - 226s 449ms/step - loss: 0.2681 - acc: 0.9030 - val_loss: 8.8224 - val_acc: 0.1775\n",
      "Epoch 25/30\n",
      "502/502 [==============================] - 225s 449ms/step - loss: 0.2457 - acc: 0.9098 - val_loss: 8.3039 - val_acc: 0.2099\n",
      "Epoch 26/30\n",
      "502/502 [==============================] - 229s 456ms/step - loss: 0.2585 - acc: 0.9085 - val_loss: 13.9577 - val_acc: 0.2114\n",
      "Epoch 27/30\n",
      "502/502 [==============================] - 231s 461ms/step - loss: 0.2410 - acc: 0.9127 - val_loss: 14.9681 - val_acc: 0.2157\n",
      "Epoch 28/30\n",
      "502/502 [==============================] - 232s 463ms/step - loss: 0.2270 - acc: 0.9195 - val_loss: 9.7640 - val_acc: 0.2276\n",
      "Epoch 29/30\n",
      "502/502 [==============================] - 237s 472ms/step - loss: 0.2282 - acc: 0.9183 - val_loss: 16.3069 - val_acc: 0.2072\n",
      "Epoch 30/30\n",
      "502/502 [==============================] - 228s 455ms/step - loss: 0.2052 - acc: 0.9263 - val_loss: 5.7788 - val_acc: 0.1840\n"
     ]
    }
   ],
   "source": [
    "history = model.fit(wav_to_img_data, target, epochs=30, batch_size=32, validation_split=0.2)"
   ]
  },
  {
   "cell_type": "code",
   "execution_count": 63,
   "metadata": {},
   "outputs": [],
   "source": [
    "model.save('3depth_CNN_model.h5')"
   ]
  },
  {
   "cell_type": "code",
   "execution_count": null,
   "metadata": {},
   "outputs": [],
   "source": []
  }
 ],
 "metadata": {
  "kernelspec": {
   "display_name": "base",
   "language": "python",
   "name": "python3"
  },
  "language_info": {
   "codemirror_mode": {
    "name": "ipython",
    "version": 3
   },
   "file_extension": ".py",
   "mimetype": "text/x-python",
   "name": "python",
   "nbconvert_exporter": "python",
   "pygments_lexer": "ipython3",
   "version": "3.7.4"
  },
  "orig_nbformat": 4,
  "vscode": {
   "interpreter": {
    "hash": "e4cce46d6be9934fbd27f9ca0432556941ea5bdf741d4f4d64c6cd7f8dfa8fba"
   }
  }
 },
 "nbformat": 4,
 "nbformat_minor": 2
}
